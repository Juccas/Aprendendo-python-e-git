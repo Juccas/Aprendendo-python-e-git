{
 "cells": [
  {
   "cell_type": "code",
   "execution_count": null,
   "id": "f1779786-a687-4502-a78c-680f45d20ecb",
   "metadata": {},
   "outputs": [],
   "source": [
    "#treinar python - Aula 1\n",
    "# int - numeros inteiros \n",
    "# float - numeros decimais \n",
    "# str (string) - texto\n",
    "# bool - True ou False\n",
    "# None - inexistente "
   ]
  },
  {
   "cell_type": "code",
   "execution_count": 3,
   "id": "91d81407-a0c5-474f-a360-bd6cdac58061",
   "metadata": {},
   "outputs": [],
   "source": [
    "# Declarando Variaveis \n",
    "variavel1: int = 10 # atribuindo tipo int a variavel\n",
    "variavel2: int\n",
    "variavel2 = 5 # Não é necessário, apenas para deixar o código mais entendivel"
   ]
  },
  {
   "cell_type": "code",
   "execution_count": 6,
   "id": "06d324ce-b850-4472-a6e5-1775177b5388",
   "metadata": {},
   "outputs": [
    {
     "name": "stdin",
     "output_type": "stream",
     "text": [
      "Digite seu nome:  João\n"
     ]
    },
    {
     "name": "stdout",
     "output_type": "stream",
     "text": [
      "Olá João!\n",
      "*****\n",
      "Bem Vindo\n",
      "*****\n"
     ]
    }
   ],
   "source": [
    "# Pritando frases\n",
    "nome = input(\"Digite seu nome: \")\n",
    "print(f\"Olá {nome}!\") # sempre pula uma linha, ou também \\n\n",
    "print(\"*****\")\n",
    "print(\"Bem\", end = \" \") #Diz para não pular a linha\n",
    "print(\"Vindo\")\n",
    "print(\"*****\")"
   ]
  },
  {
   "cell_type": "code",
   "execution_count": null,
   "id": "364e7dd6-3e4d-4be6-81ad-02a3bc7ad38d",
   "metadata": {},
   "outputs": [],
   "source": [
    "# condicional \n",
    "# if (condição):\n",
    "#    se é True faz tal coisa\n",
    "# else \n",
    "#    se é False faz outra coisa"
   ]
  },
  {
   "cell_type": "code",
   "execution_count": null,
   "id": "464f26dd-eb79-418e-823b-1bfe1fa4b5fa",
   "metadata": {},
   "outputs": [],
   "source": [
    "# Loop\n",
    "# While(condição) executa um loop enquanto a condição for verdadeira \n",
    "# for i in range(0,10,1), um loop onde o i percorre os numeros de 0 a 10-1, começando no 0 e a um passo de 1 em 1 vai até 9\n",
    "# break quebra o loop e sai dele\n",
    "# continue leva o loop automaticamente para a parte inicial"
   ]
  },
  {
   "cell_type": "code",
   "execution_count": 27,
   "id": "43e5732e-06a1-4d77-8600-34e31ece243a",
   "metadata": {},
   "outputs": [
    {
     "name": "stdout",
     "output_type": "stream",
     "text": [
      "['USP', 'UFC', 'UNIFOR', 'UNICAMP', 10]\n",
      "Tamanho da lista: 5 elementos\n",
      "['USP', 'UFC', 'UNICAMP', 10]\n",
      "Lista não ordenada: [2, 3, 5, 1, 10, 7, 20, 6, 15, 4]\n",
      "Lista ordenada: [1, 2, 3, 4, 5, 6, 7, 10, 15, 20]\n"
     ]
    },
    {
     "data": {
      "text/plain": [
       "[9, 8, 7, 6, 5, 4, 3, 2, 1, 0]"
      ]
     },
     "execution_count": 27,
     "metadata": {},
     "output_type": "execute_result"
    }
   ],
   "source": [
    "# Lista - armazena variaveis e não precisa dizer o tamanho\n",
    "# O index de cada elemento começa de 0 e vai até N-1, onde é o número de elementos\n",
    "lista = [\"USP\", \"UFC\", \"UNIFOR\"]\n",
    "lista.append(\"UNICAMP\") #adiciona o valor no final da lista\n",
    "lista.append(10) #pode adicionar variaveis de diferentes tipo na mesma lista\n",
    "print(lista) #printa a lista\n",
    "print(f\"Tamanho da lista: {len(lista)} elementos\") # len() mostra o tamanho da lista\n",
    "lista.pop(2) # remove o elemento que está no index indicado\n",
    "print(lista)# printa a lista após remover o elemento com index 2\n",
    "lista2= [2,3,5,1,10,7,20,6,15,4] # lista não ordenada\n",
    "print(f\"Lista não ordenada: {lista2}\")\n",
    "lista2.sort() # ordena a lista de forma crescente\n",
    "print(f\"Lista ordenada: {lista2}\") # lista ordenada\n",
    "\n",
    "#Slicing\n",
    "lista3 = [x for x in range(0,10)] # list compreension, permite que cria lista com elementos de forma rápida\n",
    "\n",
    "lista3[0:9:1] # [0, 1, 2, 3, 4, 5, 6, 7, 8]\n",
    "lista3[::] # [0, 1, 2, 3, 4, 5, 6, 7, 8, 9]\n",
    "lista3[2::] # [2, 3, 4, 5, 6, 7, 8, 9]\n",
    "lista3[:5:] # [0, 1, 2, 3, 4]\n",
    "lista3[::-1] # [9, 8, 7, 6, 5, 4, 3, 2, 1, 0]\n"
   ]
  },
  {
   "cell_type": "code",
   "execution_count": 29,
   "id": "0df755b7-ac09-478a-8d32-886a24efcb95",
   "metadata": {},
   "outputs": [
    {
     "name": "stdout",
     "output_type": "stream",
     "text": [
      "[1, 1, 2]\n",
      "{1, 2}\n",
      "{1: '1', '1': 1, 'lista': [1, 2, 3, 4, 5], 'dicionario': {'key': 'senha'}}\n"
     ]
    }
   ],
   "source": [
    "# set - uma lista, mas que não aceita elementos repetidos \n",
    "array =[1,1,2]\n",
    "print(array)\n",
    "print(set(array))\n",
    "\n",
    "# Tupla, uma lista com elementos fixos e que não podem ser mudados\n",
    "\n",
    "# dicionário \n",
    "# esquema é chave fechadura, uma chave vai permitir abrir uma unica fechadura (acessar um único dado) e mais nenhuma\n",
    "dicionario = {} #declarando o dicionário\n",
    "dicionario[1] = '1' # declarando a primeira chave\n",
    "dicionario['1'] = 1 # declarando o valor da chave '1'\n",
    "dicionario['lista'] = [1,2,3,4,5] # declarando uma chave 'lista' que armazena uma lista\n",
    "dicionario['dicionario'] = {'key':'senha'} # declarando uma chave que armazena outro dicionário\n",
    "print(dicionario)"
   ]
  },
  {
   "cell_type": "code",
   "execution_count": 36,
   "id": "7e65f75b-44ac-45b8-824c-0a9156ab55df",
   "metadata": {},
   "outputs": [
    {
     "name": "stdin",
     "output_type": "stream",
     "text": [
      "Digite um número:  50\n"
     ]
    },
    {
     "name": "stdout",
     "output_type": "stream",
     "text": [
      "O número chutado é menor\n"
     ]
    },
    {
     "name": "stdin",
     "output_type": "stream",
     "text": [
      "Digite um número:  75\n"
     ]
    },
    {
     "name": "stdout",
     "output_type": "stream",
     "text": [
      "O número chutado é maior\n"
     ]
    },
    {
     "name": "stdin",
     "output_type": "stream",
     "text": [
      "Digite um número:  62\n"
     ]
    },
    {
     "name": "stdout",
     "output_type": "stream",
     "text": [
      "O número chutado é maior\n"
     ]
    },
    {
     "name": "stdin",
     "output_type": "stream",
     "text": [
      "Digite um número:  56\n"
     ]
    },
    {
     "name": "stdout",
     "output_type": "stream",
     "text": [
      "O número chutado é menor\n"
     ]
    },
    {
     "name": "stdin",
     "output_type": "stream",
     "text": [
      "Digite um número:  59\n"
     ]
    },
    {
     "name": "stdout",
     "output_type": "stream",
     "text": [
      "O número chutado é maior\n"
     ]
    },
    {
     "name": "stdin",
     "output_type": "stream",
     "text": [
      "Digite um número:  57\n"
     ]
    },
    {
     "name": "stdout",
     "output_type": "stream",
     "text": [
      "O número chutado é menor\n"
     ]
    },
    {
     "name": "stdin",
     "output_type": "stream",
     "text": [
      "Digite um número:  58\n"
     ]
    },
    {
     "name": "stdout",
     "output_type": "stream",
     "text": [
      "Parabens Acertou o número !!!\n",
      "58\n",
      " Suas tentativas - [50, 75, 62, 56, 59, 57, 58]\n"
     ]
    }
   ],
   "source": [
    "# gerando números aleatório\n",
    "import random\n",
    "numero = random.randint(0,100)\n",
    "tentativas = []\n",
    "while(True):\n",
    "    numeroUser = int(input(\"Digite um número: \"))\n",
    "    tentativas.append(numeroUser)\n",
    "    if(numeroUser == numero):\n",
    "        print(\"Parabens Acertou o número !!!\")\n",
    "        break\n",
    "    elif (numeroUser > numero):\n",
    "        print(\"O número chutado é maior\")\n",
    "    else:\n",
    "        print(\"O número chutado é menor\")\n",
    "print(numero)\n",
    "print(f\" Suas tentativas - {tentativas}\") "
   ]
  },
  {
   "cell_type": "code",
   "execution_count": 40,
   "id": "ca4229f9-ea02-46c1-85f4-170500ebf40c",
   "metadata": {},
   "outputs": [
    {
     "name": "stdin",
     "output_type": "stream",
     "text": [
      "Digite a altura:  10\n"
     ]
    },
    {
     "name": "stdout",
     "output_type": "stream",
     "text": [
      "         *\n",
      "        **\n",
      "       ***\n",
      "      ****\n",
      "     *****\n",
      "    ******\n",
      "   *******\n",
      "  ********\n",
      " *********\n",
      "**********\n"
     ]
    }
   ],
   "source": [
    "altura = int(input(\"Digite a altura: \"))\n",
    "lista = [x for x in range(0,altura)]\n",
    "linha = altura -1\n",
    "for i in range(altura):\n",
    "    for j in range(linha):\n",
    "        print(\" \", end = \"\")\n",
    "    for k in range(i+1):\n",
    "        print(\"*\", end =\"\")\n",
    "    print()\n",
    "    linha-=1\n",
    "\n",
    "    \n",
    "    "
   ]
  },
  {
   "cell_type": "code",
   "execution_count": null,
   "id": "2e3cd0ef-6eef-4399-bb06-b8496ec929e8",
   "metadata": {},
   "outputs": [],
   "source": []
  }
 ],
 "metadata": {
  "kernelspec": {
   "display_name": "Python 3 (ipykernel)",
   "language": "python",
   "name": "python3"
  },
  "language_info": {
   "codemirror_mode": {
    "name": "ipython",
    "version": 3
   },
   "file_extension": ".py",
   "mimetype": "text/x-python",
   "name": "python",
   "nbconvert_exporter": "python",
   "pygments_lexer": "ipython3",
   "version": "3.12.3"
  }
 },
 "nbformat": 4,
 "nbformat_minor": 5
}
