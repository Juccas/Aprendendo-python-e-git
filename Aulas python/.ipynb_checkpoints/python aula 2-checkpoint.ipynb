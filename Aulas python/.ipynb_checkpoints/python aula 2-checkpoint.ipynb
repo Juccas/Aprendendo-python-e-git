{
 "cells": [
  {
   "cell_type": "code",
   "execution_count": 5,
   "id": "d4de1da1-0bb8-4c64-92d5-0102b4548efe",
   "metadata": {},
   "outputs": [
    {
     "name": "stdout",
     "output_type": "stream",
     "text": [
      "XD\n",
      "10\n"
     ]
    }
   ],
   "source": [
    "def func(x):\n",
    "    return 2*x\n",
    "y = func(5)\n",
    "print(y)"
   ]
  },
  {
   "cell_type": "code",
   "execution_count": 8,
   "id": "71dcd399-e520-40d9-9d49-781c01631117",
   "metadata": {},
   "outputs": [
    {
     "name": "stdout",
     "output_type": "stream",
     "text": [
      "100\n"
     ]
    }
   ],
   "source": [
    "def maior(x,y,z):\n",
    "    if x > y and x> z:\n",
    "        return x\n",
    "    elif y > z:\n",
    "        return y # quando chega no return a função para.\n",
    "    else:\n",
    "        return z\n",
    "    print(\"Não vai aparecer essa mensagem\")\n",
    "maiorNumero = maior(10,100,4)\n",
    "print(maiorNumero)"
   ]
  },
  {
   "cell_type": "code",
   "execution_count": 10,
   "id": "446f9b18-b72f-4744-93d9-7b1d5a8821c3",
   "metadata": {},
   "outputs": [
    {
     "name": "stdout",
     "output_type": "stream",
     "text": [
      "Lista 1 [1, 2, 3, 4, 5]\n",
      "Lista 2 [1, 2, 3, 4, 5]\n",
      "Lista 3 [1, 2, 3, 4, 100]\n"
     ]
    }
   ],
   "source": [
    "#Objetos mutaveis\n",
    "lista1 = [1,2,3,4]\n",
    "lista3 = lista1.copy() #jeito certo de copiar uma lista\n",
    "lista2 = lista1 # manda o endereço de memória da lista 1 para lista 2, assim se mudar a lista 2 muda a lista 1\n",
    "lista2.append(5)\n",
    "lista3.append(100)\n",
    "print(f\"Lista 1 {lista1}\")\n",
    "print(f\"Lista 2 {lista2}\")\n",
    "print(f\"Lista 3 {lista3}\")\n"
   ]
  },
  {
   "cell_type": "code",
   "execution_count": 14,
   "id": "0a594f45-a035-4a91-b152-93188f389de3",
   "metadata": {},
   "outputs": [
    {
     "name": "stdout",
     "output_type": "stream",
     "text": [
      "Dolphin\n",
      "Acelerando\n"
     ]
    }
   ],
   "source": [
    "#POO\n",
    "class Car():\n",
    "    def __init__(self,cor,marca,nome):\n",
    "        self.cor = cor\n",
    "        self.nome = nome\n",
    "        self.marca = marca\n",
    "    def acelerar(self):\n",
    "        print(\"Acelerando\")\n",
    "carro1 = Car(\"Azul\",\"BYD\",\"Dolphin\")\n",
    "print(carro1.nome)\n",
    "carro1.acelerar()"
   ]
  },
  {
   "cell_type": "code",
   "execution_count": 16,
   "id": "1aea195f-6c09-4efd-8771-599899812ba4",
   "metadata": {},
   "outputs": [
    {
     "name": "stdout",
     "output_type": "stream",
     "text": [
      "Lebron\n",
      "Latir\n",
      "Dormindo\n",
      "Miando\n"
     ]
    }
   ],
   "source": [
    "#Herança\n",
    "class Animal:\n",
    "    def __init__(self,nome):\n",
    "        self.nome = nome\n",
    "    def falar(self):\n",
    "        pass\n",
    "class Cachorro(Animal):\n",
    "    def falar(self):\n",
    "        print(\"Latir\")\n",
    "    def Dormir(self):\n",
    "        print(\"Dormindo\")\n",
    "class Gato(Animal):\n",
    "    def falar(self):\n",
    "        print(\"Miando\")\n",
    "cachorro = Cachorro(\"Lebron\")\n",
    "print(cachorro.nome)\n",
    "cachorro.falar()\n",
    "cachorro.Dormir()\n",
    "gato = Gato(\"Gar\")\n",
    "gato.falar()\n",
    "        "
   ]
  },
  {
   "cell_type": "code",
   "execution_count": 18,
   "id": "aedf716e-1f1b-4689-88be-248eababd27a",
   "metadata": {},
   "outputs": [
    {
     "name": "stdout",
     "output_type": "stream",
     "text": [
      "Mairo numero do vetor 77\n"
     ]
    }
   ],
   "source": [
    "def maior(lista):\n",
    "    if (len(vetor) == 0):\n",
    "        return \"Não tem nenhum elemento\"\n",
    "    lista.sort()\n",
    "    ultIndex = len(lista)-1\n",
    "    return lista[ultIndex]\n",
    "vetor = [1,2,3,7,4,3,77,3,4,24,5,6]\n",
    "print(f\"Maior numero do vetor {maior(vetor)}\")"
   ]
  },
  {
   "cell_type": "code",
   "execution_count": 20,
   "id": "3a61f236-7f51-464c-9075-9cabd909b0ea",
   "metadata": {},
   "outputs": [],
   "source": [
    "class Aluno():\n",
    "    def __init__(self,nome,idade,rg):\n",
    "        self.nome = nome\n",
    "        self.idade = idade\n",
    "        self.rg = rg\n",
    "aluno1 = Aluno(\"João\",19,1)"
   ]
  },
  {
   "cell_type": "code",
   "execution_count": 21,
   "id": "9ed9cc3e-598f-4914-b4bd-bb09c7b73c09",
   "metadata": {},
   "outputs": [],
   "source": [
    "class Turma():\n",
    "    def __init__(self,nome):\n",
    "        self.nome = nome\n",
    "        self.alunos = []\n",
    "    def adicionarAluno(self,aluno):\n",
    "        self.alunos.append(aluno)\n",
    "    def removerAluno(self,rgAluno):\n",
    "        for aluno in self.alunos:\n",
    "            if aluno.rg == rgAluno:\n",
    "                self.alunos.remove(aluno)\n",
    "    def ListarAlunos(self):\n",
    "        for aluno in self.alunos:\n",
    "            print(f\"Nome: {aluno.nome}. Idade: {aluno.idade}. RG: {aluno.rg}\")\n",
    "        "
   ]
  },
  {
   "cell_type": "code",
   "execution_count": null,
   "id": "420bb3e9-74a7-4a8d-87f0-52b620a8d173",
   "metadata": {},
   "outputs": [],
   "source": []
  }
 ],
 "metadata": {
  "kernelspec": {
   "display_name": "Python 3 (ipykernel)",
   "language": "python",
   "name": "python3"
  },
  "language_info": {
   "codemirror_mode": {
    "name": "ipython",
    "version": 3
   },
   "file_extension": ".py",
   "mimetype": "text/x-python",
   "name": "python",
   "nbconvert_exporter": "python",
   "pygments_lexer": "ipython3",
   "version": "3.12.3"
  }
 },
 "nbformat": 4,
 "nbformat_minor": 5
}
