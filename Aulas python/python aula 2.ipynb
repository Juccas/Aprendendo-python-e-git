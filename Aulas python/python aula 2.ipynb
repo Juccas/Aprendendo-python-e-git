{
 "cells": [
  {
   "cell_type": "code",
   "execution_count": 5,
   "id": "d4de1da1-0bb8-4c64-92d5-0102b4548efe",
   "metadata": {},
   "outputs": [
    {
     "name": "stdout",
     "output_type": "stream",
     "text": [
      "XD\n",
      "10\n"
     ]
    }
   ],
   "source": [
    "def func(x):\n",
    "    return 2*x\n",
    "y = func(5)\n",
    "print(y)"
   ]
  },
  {
   "cell_type": "code",
   "execution_count": 8,
   "id": "71dcd399-e520-40d9-9d49-781c01631117",
   "metadata": {},
   "outputs": [
    {
     "name": "stdout",
     "output_type": "stream",
     "text": [
      "100\n"
     ]
    }
   ],
   "source": [
    "def maior(x,y,z):\n",
    "    if x > y and x> z:\n",
    "        return x\n",
    "    elif y > z:\n",
    "        return y # quando chega no return a função para.\n",
    "    else:\n",
    "        return z\n",
    "    print(\"Não vai aparecer essa mensagem\")\n",
    "maiorNumero = maior(10,100,4)\n",
    "print(maiorNumero)"
   ]
  },
  {
   "cell_type": "code",
   "execution_count": 10,
   "id": "446f9b18-b72f-4744-93d9-7b1d5a8821c3",
   "metadata": {},
   "outputs": [
    {
     "name": "stdout",
     "output_type": "stream",
     "text": [
      "Lista 1 [1, 2, 3, 4, 5]\n",
      "Lista 2 [1, 2, 3, 4, 5]\n",
      "Lista 3 [1, 2, 3, 4, 100]\n"
     ]
    }
   ],
   "source": [
    "#Objetos mutaveis\n",
    "lista1 = [1,2,3,4]\n",
    "lista3 = lista1.copy() #jeito certo de copiar uma lista\n",
    "lista2 = lista1 # manda o endereço de memória da lista 1 para lista 2, assim se mudar a lista 2 muda a lista 1\n",
    "lista2.append(5)\n",
    "lista3.append(100)\n",
    "print(f\"Lista 1 {lista1}\")\n",
    "print(f\"Lista 2 {lista2}\")\n",
    "print(f\"Lista 3 {lista3}\")\n"
   ]
  },
  {
   "cell_type": "code",
   "execution_count": 14,
   "id": "0a594f45-a035-4a91-b152-93188f389de3",
   "metadata": {},
   "outputs": [
    {
     "name": "stdout",
     "output_type": "stream",
     "text": [
      "Dolphin\n",
      "Acelerando\n"
     ]
    }
   ],
   "source": [
    "#POO\n",
    "class Car():\n",
    "    def __init__(self,cor,marca,nome):\n",
    "        self.cor = cor\n",
    "        self.nome = nome\n",
    "        self.marca = marca\n",
    "    def acelerar(self):\n",
    "        print(\"Acelerando\")\n",
    "carro1 = Car(\"Azul\",\"BYD\",\"Dolphin\")\n",
    "print(carro1.nome)\n",
    "carro1.acelerar()"
   ]
  },
  {
   "cell_type": "code",
   "execution_count": 16,
   "id": "1aea195f-6c09-4efd-8771-599899812ba4",
   "metadata": {},
   "outputs": [
    {
     "name": "stdout",
     "output_type": "stream",
     "text": [
      "Lebron\n",
      "Latir\n",
      "Dormindo\n",
      "Miando\n"
     ]
    }
   ],
   "source": [
    "#Herança\n",
    "class Animal:\n",
    "    def __init__(self,nome):\n",
    "        self.nome = nome\n",
    "    def falar(self):\n",
    "        pass\n",
    "class Cachorro(Animal):\n",
    "    def falar(self):\n",
    "        print(\"Latir\")\n",
    "    def Dormir(self):\n",
    "        print(\"Dormindo\")\n",
    "class Gato(Animal):\n",
    "    def falar(self):\n",
    "        print(\"Miando\")\n",
    "cachorro = Cachorro(\"Lebron\")\n",
    "print(cachorro.nome)\n",
    "cachorro.falar()\n",
    "cachorro.Dormir()\n",
    "gato = Gato(\"Gar\")\n",
    "gato.falar()\n",
    "        "
   ]
  },
  {
   "cell_type": "code",
   "execution_count": 24,
   "id": "aedf716e-1f1b-4689-88be-248eababd27a",
   "metadata": {},
   "outputs": [],
   "source": [
    "def maior(lista):\n",
    "    if (len(vetor) == 0):\n",
    "        return \"Não tem nenhum elemento\"\n",
    "    lista.sort()\n",
    "    ultIndex = len(lista)-1\n",
    "    return lista[ultIndex]\n",
    "vetor = [1,2,3,7,4,3,77,3,4,24,5,6]\n"
   ]
  },
  {
   "cell_type": "code",
   "execution_count": 1,
   "id": "3a61f236-7f51-464c-9075-9cabd909b0ea",
   "metadata": {},
   "outputs": [],
   "source": [
    "class Aluno():\n",
    "    def __init__(self,nome,idade,rg):\n",
    "        self.nome = nome\n",
    "        self.idade = idade\n",
    "        self.rg = rg\n",
    "aluno1 = Aluno(\"João\",19,1)"
   ]
  },
  {
   "cell_type": "code",
   "execution_count": 5,
   "id": "9ed9cc3e-598f-4914-b4bd-bb09c7b73c09",
   "metadata": {},
   "outputs": [],
   "source": [
    "class Turma():\n",
    "    def __init__(self,nome):\n",
    "        self.nome = nome\n",
    "        self.alunos = []\n",
    "    def adicionarAluno(self,aluno):\n",
    "        self.alunos.append(aluno)\n",
    "    def removerAluno(self,rgAluno):\n",
    "        for aluno in self.alunos:\n",
    "            if aluno.rg == rgAluno:\n",
    "                self.alunos.remove(aluno)\n",
    "    def listarAlunos(self):\n",
    "        if(len(self.alunos)) == 0:\n",
    "            print(\"Essa turma não tem alunos\")\n",
    "            return None\n",
    "        for aluno in self.alunos:\n",
    "            print(f\"Nome: {aluno.nome}. Idade: {aluno.idade}. RG: {aluno.rg}\")\n",
    "        "
   ]
  },
  {
   "cell_type": "code",
   "execution_count": 19,
   "id": "420bb3e9-74a7-4a8d-87f0-52b620a8d173",
   "metadata": {},
   "outputs": [
    {
     "name": "stdout",
     "output_type": "stream",
     "text": [
      "Essa turma não tem alunos\n",
      "Nome: João. Idade: 22. RG: 1\n",
      "Nome: Pedro. Idade: 25. RG: 2\n",
      "Nome: Matheus. Idade: 21. RG: 3\n",
      "Nome: Pedro. Idade: 25. RG: 2\n",
      "Alunos turma: Turma A\n",
      "Nome: João. Idade: 22. RG: 1\n"
     ]
    }
   ],
   "source": [
    "turmaA = Turma(\"Turma A\")\n",
    "turmaA.listarAlunos()\n",
    "aluno2 = Aluno(\"João\", 22,1)\n",
    "turmaA.adicionarAluno(aluno2)\n",
    "turmaA.listarAlunos()\n",
    "turmaB = Turma(\"Turma B\")\n",
    "aluno3 = Aluno(\"Pedro\", 25,2)\n",
    "turmaB.adicionarAluno(aluno3)\n",
    "turmaB.adicionarAluno(Aluno(nome = \"Matheus\", idade = 21, rg = 3))\n",
    "turmaB.listarAlunos()\n",
    "turmaB.removerAluno(3)\n",
    "turmaB.listarAlunos()\n",
    "print(f\"Alunos turma: {turmaA.nome}\")\n",
    "turmaA.listarAlunos()"
   ]
  },
  {
   "cell_type": "code",
   "execution_count": 21,
   "id": "880da777-17fe-479e-998a-bb78a7c6ab25",
   "metadata": {},
   "outputs": [
    {
     "name": "stdout",
     "output_type": "stream",
     "text": [
      "[1, 2, 3, 4, 5, 6]\n",
      "[1, 2, 3]\n"
     ]
    }
   ],
   "source": [
    "def juntar(vetor1, vetor2):\n",
    "    NovoVetor = vetor1.copy()\n",
    "    for elementos in vetor2:\n",
    "        NovoVetor.append(elementos)\n",
    "    return NovoVetor\n",
    "vetor1 = [1,2,3]\n",
    "vetor2 = [4,5,6]\n",
    "NovoVetor = juntar(vetor1,vetor2)\n",
    "print(NovoVetor)"
   ]
  },
  {
   "cell_type": "code",
   "execution_count": 25,
   "id": "edd90d08-c7e4-4bc0-ba24-a39277f25e85",
   "metadata": {},
   "outputs": [
    {
     "name": "stdout",
     "output_type": "stream",
     "text": [
      "[3, 6]\n"
     ]
    }
   ],
   "source": [
    "def Maiores(vetor1,vetor2):\n",
    "    NovoVetor =[]\n",
    "    NovoVetor.append(maior(vetor1))\n",
    "    NovoVetor.append(maior(vetor2))\n",
    "    return NovoVetor\n",
    "novoVetor = Maiores(vetor1,vetor2)\n",
    "print(novoVetor)\n",
    "                     \n"
   ]
  },
  {
   "cell_type": "code",
   "execution_count": 27,
   "id": "be838193-d33e-4e0f-a300-1747e4f80851",
   "metadata": {},
   "outputs": [
    {
     "name": "stdout",
     "output_type": "stream",
     "text": [
      "4\n"
     ]
    }
   ],
   "source": [
    "def Maiorpalavras(texto,numero):\n",
    "    contador = 0\n",
    "    listaPalavras = texto.split(\" \")\n",
    "    for palavra in listaPalavras:\n",
    "        if len(palavra) > numero:\n",
    "            contador+=1\n",
    "    return contador\n",
    "texto = \"Ola me chamo joao lucas, tudo bem ?\"\n",
    "print(Maiorpalavras(texto,3))"
   ]
  },
  {
   "cell_type": "code",
   "execution_count": null,
   "id": "24388c5d-de2d-4523-9f24-d738837d5ee1",
   "metadata": {},
   "outputs": [],
   "source": []
  }
 ],
 "metadata": {
  "kernelspec": {
   "display_name": "Python 3 (ipykernel)",
   "language": "python",
   "name": "python3"
  },
  "language_info": {
   "codemirror_mode": {
    "name": "ipython",
    "version": 3
   },
   "file_extension": ".py",
   "mimetype": "text/x-python",
   "name": "python",
   "nbconvert_exporter": "python",
   "pygments_lexer": "ipython3",
   "version": "3.12.3"
  }
 },
 "nbformat": 4,
 "nbformat_minor": 5
}
